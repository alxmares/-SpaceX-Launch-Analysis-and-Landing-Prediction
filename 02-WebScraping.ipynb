{
 "cells": [
  {
   "cell_type": "markdown",
   "id": "c8710515-5b03-49db-b592-5ef9c2a2e236",
   "metadata": {},
   "source": [
    "# **Web scraping Falcon 9 and Falcon Heavy Launches Records from Wikipedia**\n",
    "---"
   ]
  },
  {
   "cell_type": "code",
   "execution_count": 1,
   "id": "2bc43b4a-1f5a-4ea6-a453-6879d1966807",
   "metadata": {},
   "outputs": [],
   "source": [
    "import sys\n",
    "\n",
    "import requests\n",
    "from bs4 import BeautifulSoup\n",
    "import re\n",
    "import unicodedata\n",
    "import pandas as pd"
   ]
  },
  {
   "cell_type": "code",
   "execution_count": 2,
   "id": "e11e6601-fc3f-4a7e-b531-3634bc2d56e7",
   "metadata": {},
   "outputs": [],
   "source": [
    "def date_time(table_cells):\n",
    "    \"\"\"\n",
    "    This function returns the data and time from the HTML  table cell\n",
    "    Input: the  element of a table data cell extracts extra row\n",
    "    \"\"\"\n",
    "    return [data_time.strip() for data_time in list(table_cells.strings)][0:2]\n",
    "\n",
    "def booster_version(table_cells):\n",
    "    \"\"\"\n",
    "    This function returns the booster version from the HTML  table cell \n",
    "    Input: the  element of a table data cell extracts extra row\n",
    "    \"\"\"\n",
    "    out=''.join([booster_version for i,booster_version in enumerate( table_cells.strings) if i%2==0][0:-1])\n",
    "    return out\n",
    "\n",
    "def landing_status(table_cells):\n",
    "    \"\"\"\n",
    "    This function returns the landing status from the HTML table cell \n",
    "    Input: the  element of a table data cell extracts extra row\n",
    "    \"\"\"\n",
    "    out=[i for i in table_cells.strings][0]\n",
    "    return out\n",
    "\n",
    "\n",
    "def get_mass(table_cells):\n",
    "    mass=unicodedata.normalize(\"NFKD\", table_cells.text).strip()\n",
    "    if mass:\n",
    "        mass.find(\"kg\")\n",
    "        new_mass=mass[0:mass.find(\"kg\")+2]\n",
    "    else:\n",
    "        new_mass=0\n",
    "    return new_mass\n",
    "\n",
    "\n",
    "def extract_column_from_header(row):\n",
    "    \"\"\"\n",
    "    This function returns the landing status from the HTML table cell \n",
    "    Input: the  element of a table data cell extracts extra row\n",
    "    \"\"\"\n",
    "    if (row.br):\n",
    "        row.br.extract()\n",
    "    if row.a:\n",
    "        row.a.extract()\n",
    "    if row.sup:\n",
    "        row.sup.extract()\n",
    "        \n",
    "    colunm_name = ' '.join(row.contents)\n",
    "    \n",
    "    # Filter the digit and empty names\n",
    "    if not(colunm_name.strip().isdigit()):\n",
    "        colunm_name = colunm_name.strip()\n",
    "        return colunm_name    "
   ]
  },
  {
   "cell_type": "code",
   "execution_count": 3,
   "id": "78ba473f-2f35-4f09-916f-3cacfee66af4",
   "metadata": {},
   "outputs": [],
   "source": [
    "static_url = \"https://en.wikipedia.org/w/index.php?title=List_of_Falcon_9_and_Falcon_Heavy_launches&oldid=1027686922\""
   ]
  },
  {
   "cell_type": "code",
   "execution_count": 4,
   "id": "d3e8d1be-4407-412e-a5d8-f9ffea7a45b3",
   "metadata": {},
   "outputs": [],
   "source": [
    "response = requests.get(static_url)"
   ]
  },
  {
   "cell_type": "code",
   "execution_count": 7,
   "id": "6a4eabc6-3b7a-4eae-8a95-d6701d19fa2e",
   "metadata": {},
   "outputs": [
    {
     "data": {
      "text/plain": [
       "200"
      ]
     },
     "execution_count": 7,
     "metadata": {},
     "output_type": "execute_result"
    }
   ],
   "source": [
    "response.status_code"
   ]
  },
  {
   "cell_type": "code",
   "execution_count": 13,
   "id": "e1a2af75-ff3c-4baa-87bf-3c43e62f3980",
   "metadata": {},
   "outputs": [],
   "source": [
    "soup = BeautifulSoup(response.content, \"html.parser\")"
   ]
  },
  {
   "cell_type": "code",
   "execution_count": 15,
   "id": "e4990965-a1bf-4525-a36d-ba28053f5a91",
   "metadata": {},
   "outputs": [
    {
     "data": {
      "text/plain": [
       "'List of Falcon 9 and Falcon Heavy launches - Wikipedia'"
      ]
     },
     "execution_count": 15,
     "metadata": {},
     "output_type": "execute_result"
    }
   ],
   "source": [
    "soup.title.get_text()"
   ]
  },
  {
   "cell_type": "code",
   "execution_count": 46,
   "id": "abbb6803-12cb-48a1-9f42-c215883edf63",
   "metadata": {},
   "outputs": [
    {
     "data": {
      "text/plain": [
       "<title>List of Falcon 9 and Falcon Heavy launches - Wikipedia</title>"
      ]
     },
     "execution_count": 46,
     "metadata": {},
     "output_type": "execute_result"
    }
   ],
   "source": [
    "soup.title"
   ]
  },
  {
   "cell_type": "markdown",
   "id": "996c67c7-13d5-4c65-b45c-008e9cfac240",
   "metadata": {},
   "source": [
    "---"
   ]
  },
  {
   "cell_type": "code",
   "execution_count": 16,
   "id": "aa0899fb-0c8b-42d1-be96-a2efcc5b73ff",
   "metadata": {},
   "outputs": [],
   "source": [
    "html_tables = soup.find_all('table')"
   ]
  },
  {
   "cell_type": "code",
   "execution_count": 18,
   "id": "9b58b809-6291-4166-af05-cbfef920dba5",
   "metadata": {},
   "outputs": [],
   "source": [
    "first_launch_table = html_tables[2]\n",
    "#print(first_launch_table)"
   ]
  },
  {
   "cell_type": "code",
   "execution_count": 32,
   "id": "673e6ca4-d7b8-49cf-bc91-eb74ee67e579",
   "metadata": {},
   "outputs": [],
   "source": [
    "column_names = []\n",
    "\n",
    "columns = first_launch_table.find_all('th')\n",
    "for column in columns:\n",
    "    column_name = column.get_text(strip=True)\n",
    "    if column_name is not None and len(column_name) > 1:\n",
    "        column_names.append(column.get_text(strip=True))"
   ]
  },
  {
   "cell_type": "code",
   "execution_count": 33,
   "id": "9b580570-4ae2-4085-97b5-ffbd0688ea87",
   "metadata": {},
   "outputs": [
    {
     "data": {
      "text/plain": [
       "['Flight No.',\n",
       " 'Date andtime (UTC)',\n",
       " 'Version,Booster[b]',\n",
       " 'Launch site',\n",
       " 'Payload[c]',\n",
       " 'Payload mass',\n",
       " 'Orbit',\n",
       " 'Customer',\n",
       " 'Launchoutcome',\n",
       " 'Boosterlanding']"
      ]
     },
     "execution_count": 33,
     "metadata": {},
     "output_type": "execute_result"
    }
   ],
   "source": [
    "column_names"
   ]
  },
  {
   "cell_type": "code",
   "execution_count": 38,
   "id": "b731b040-6c37-41f4-8a4c-b051efc57df0",
   "metadata": {},
   "outputs": [],
   "source": [
    "launch_dict= dict.fromkeys(column_names)\n",
    "\n",
    "# Remove an irrelvant column\n",
    "del launch_dict['Date andtime (UTC)']\n",
    "\n",
    "# Let's initial the launch_dict with each value to be an empty list\n",
    "launch_dict['Flight No.'] = []\n",
    "launch_dict['Launch site'] = []\n",
    "launch_dict['Payload[c]'] = []\n",
    "launch_dict['Payload mass'] = []\n",
    "launch_dict['Orbit'] = []\n",
    "launch_dict['Customer'] = []\n",
    "launch_dict['Launchoutcome'] = []\n",
    "# Added some new columns\n",
    "launch_dict['Version,Booster[b]']=[]\n",
    "launch_dict['Boosterlanding']=[]\n",
    "launch_dict['Date']=[]\n",
    "launch_dict['Time']=[]"
   ]
  },
  {
   "cell_type": "code",
   "execution_count": 41,
   "id": "73315b3a-5f93-4bd7-b128-ce293d4fd9e0",
   "metadata": {},
   "outputs": [
    {
     "name": "stdout",
     "output_type": "stream",
     "text": [
      "{'Flight No.': ['1', '1', '2', '3', '4', '5', '6', '7', '8', '9', '10', '11', '12', '13', '14', '15', '16', '17', '18', '19', '20', '21', '22', '23', '24', '25', '26', '27', '28', '29', '30', '31', '32', '33', '34', '35', '36', '37', '38', '39', '40', '41', '42', '43', '44', '45', '46', '47', '48', '49', '50', '51', '52', '53', '54', '55', '56', '57', '58', '59', '60', '61', '62', '63', '64', '65', '66', '67', '68', '69', '70', '71', '72', '73', '74', '75', '76', '77', '78', '79', '80', '81', '82', '83', '84', '85', '86', '87', '88', '89', '90', '91', '92', '93', '94', '95', '96', '97', '98', '99', '100', '101', '102', '103', '104', '105', '106', '107', '108', '109', '110', '111', '112', '113', '114', '115', '116', '117', '118', '119', '120', '121'], 'Version,Booster[b]': ['F9 v1.0[7]B0003.1[8]', 'F9 v1.0[7]B0004.1[8]', 'F9 v1.0[7]B0005.1[8]', 'F9 v1.0[7]B0006.1[8]', 'F9 v1.0[7]B0007.1[8]', 'F9 v1.1[7]B1003[8]', 'F9 v1.1B1004', 'F9 v1.1', 'F9 v1.1', 'F9 v1.1', 'F9 v1.1', 'F9 v1.1B1011[8]', 'F9 v1.1B1010[8]', 'F9 v1.1B1012[8]', 'F9 v1.1B1013[8]', 'F9 v1.1B1014[8]', 'F9 v1.1B1015[8]', 'F9 v1.1B1016[8]', 'F9 v1.1B1018[8]', 'F9 FTB1019.1[98]', 'F9 v1.1B1017[8]', 'F9 FTB1020.1[108]', 'F9 FTB1021.1[115]', 'F9 FTB1022.1[122]', 'F9 FTB1023.1[129]', 'F9 FTB1024.1[108]', 'F9 FTB1025.1[129]', 'F9 FTB1026.1[108]', 'F9 FTB1029.1[151]', 'F9 FTB1031.1[8]', 'F9 FTB1030.1[163]', 'F9 FT♺B1021.2[115]', 'F9 FTB1032.1[129]', 'F9 FTB1034.1[179]', 'F9 FTB1035.1[185]', 'F9 FT♺B1029.2[195]', 'F9 FTB1036.1[198]', 'F9 FTB1037.1[200]', 'F9 B4B1039.1[207]', 'F9 FTB1038.1[209]', 'F9 B4B1040.1[108]', 'F9 B4B1041.1[219]', 'F9 FT♺B1031.2[220]', 'F9 B4B1042.1[219]', 'F9 FT♺B1035.2[227]', 'F9 FT♺B1036.2[227]', 'F9 B4B1043.1[238]', 'F9 FT♺B1032.2[245]', 'F9 FT♺B1038.2[268]', 'F9 B4B1044.1[108]', 'F9 B4♺B1041.2[268]', 'F9 B4♺B1039.2[292]', 'F9 B4B1045.1[268]', 'F9 B5[311]B1046.1[268]', 'F9 B4♺B1043.2[322]', 'F9 B4♺B1040.2[268]', 'F9 B4♺B1045.2[336]', 'F9 B5B1047.1', 'F9 B5[349]B1048.1[350]', 'F9 B5♺B1046.2[354]', 'F9 B5B1049.1[268]', 'F9 B5♺B1048.2[364]', 'F9 B5♺B1047.2[268]', 'F9 B5♺B1046.3[268]SHERPA', 'F9 B5B1050[268]', 'F9 B5B1054[387]', 'F9 B5♺B1049.2[397]', 'F9 B5♺B1048.3[399]', 'F9 B5B1051.1[268][413]', 'F9 B5B1056.1[420]', 'F9 B5♺B1049.3[434]', 'F9 B5♺B1051.2[420]', 'F9 B5♺B1056.2[465]', 'F9 B5♺B1047.3[472]', 'F9 B5♺B1048.4', 'F9 B5B1059.1[482]', 'F9 B5♺B1056.3[482]', 'F9 B5♺B1049.4', 'F9 B5♺B1046.4', 'F9 B5♺B1051.3', 'F9 B5♺B1056.4', 'F9 B5♺B1059.2', 'F9 B5♺B1048.5', 'F9 B5♺B1051.4', 'F9 B5B1058.1[518]', 'F9 B5♺B1049.5', 'F9 B5♺B1059.3', 'F9 B5B1060.1', 'F9 B5♺B1058.2[544]', 'F9 B5♺B1051.5', 'F9 B5♺B1049.6[544]', 'F9 B5♺B1059.4', 'F9 B5♺B1060.2[563]', 'F9 B5♺B1058.3[565]', 'F9 B5♺B1051.6[568]', 'F9 B5♺B1060.3', 'F9 B5B1062.1', 'F9 B5B1061.1[582]', 'F9 B5B1063.1', 'F9 B5 ♺B1049.7[590]', 'F9 B5 ♺B1058.4[592]', 'F9 B5 ♺B1051.7', 'F9 B5 ♺B1059.5', 'F9 B5♺B1060.4', 'F9 B5♺B1051.8[609]', 'F9 B5♺B1058.5[613]', 'F9 B5 ♺B1060.5[624]', 'F9 B5 ♺B1059.6', 'F9 B5 ♺B1049.8[634]', 'F9 B5 ♺B1058.6[638]', 'F9 B5 ♺B1051.9', 'F9 B5♺B1060.6[643]', 'F9 B5 ♺B1058.7', 'F9 B5♺B1061.2[647]', 'F9 B5♺B1060.7[652]', 'F9 B5♺B1049.9[655]', 'F9 B5♺B1051.10[657]', 'F9 B5♺B1058.8[660]', 'F9 B5♺B1063.2[665]', 'F9 B5B1067.1[668]', 'F9 B5♺B1061.3'], 'Launch site': ['CCAFS', 'CCAFS', 'CCAFS', 'CCAFS', 'CCAFS', 'VAFB', 'CCAFS', 'CCAFS', 'Cape Canaveral', 'Cape Canaveral', 'Cape Canaveral', 'Cape Canaveral', 'Cape Canaveral', 'Cape Canaveral', 'Cape Canaveral', 'Cape Canaveral', 'Cape Canaveral', 'Cape Canaveral', 'Cape Canaveral', 'Cape Canaveral', 'VAFB', 'Cape Canaveral', 'Cape Canaveral', 'Cape Canaveral', 'Cape Canaveral', 'Cape Canaveral', 'Cape Canaveral', 'Cape Canaveral', 'VAFB', 'KSC', 'KSC', 'KSC', 'KSC', 'KSC', 'KSC', 'KSC', 'VAFB', 'KSC', 'KSC', 'VAFB', 'KSC', 'VAFB', 'KSC', 'KSC', 'Cape Canaveral', 'VAFB', 'CCAFS', 'CCAFS', 'VAFB', 'CCAFS', 'VAFB', 'CCAFS', 'CCAFS', 'KSC', 'VAFB', 'CCAFS', 'CCAFS', 'CCAFS', 'VAFB', 'CCAFS', 'CCAFS', 'VAFB', 'KSC', 'VAFB', 'CCAFS', 'CCAFS', 'VAFB', 'CCAFS', 'KSC', 'CCAFS', 'CCAFS', 'VAFB', 'CCAFS', 'CCAFS', 'CCAFS', 'CCAFS', 'CCAFS', 'CCAFS', 'KSC', 'CCAFS', 'CCAFS', 'CCAFS', 'KSC', 'KSC', 'KSC', 'CCAFS', 'CCAFS', 'CCAFS', 'CCAFS', 'KSC', 'CCAFS', 'CCAFS', 'KSC', 'KSC', 'KSC', 'CCAFS', 'CCAFS', 'KSC', 'VAFB', 'CCAFS', 'KSC', 'CCSFS', 'KSC', 'CCSFS', 'KSC', 'CCSFS', 'CCSFS', 'CCSFS', 'KSC', 'CCSFS', 'KSC', 'CCSFS', 'CCSFS', 'KSC', 'CCSFS', 'KSC', 'CCSFS', 'KSC', 'CCSFS', 'KSC', 'CCSFS'], 'Payload[c]': ['Dragon Spacecraft Qualification Unit', 'Dragon', 'Dragon', 'SpaceX CRS-1', 'SpaceX CRS-2', 'CASSIOPE', 'SES-8', 'Thaicom 6', 'SpaceX CRS-3', 'Orbcomm-OG2', 'AsiaSat 8', 'AsiaSat 6', 'SpaceX CRS-4', 'SpaceX CRS-5', 'DSCOVR', 'ABS-3A', 'SpaceX CRS-6', 'TürkmenÄlem 52°E / MonacoSAT', 'SpaceX CRS-7', 'Orbcomm-OG2', 'Jason-3', 'SES-9', 'SpaceX CRS-8', 'JCSAT-14', 'Thaicom 8', 'ABS-2A', 'SpaceX CRS-9', 'JCSAT-16', 'Iridium NEXT', 'SpaceX CRS-10', 'EchoStar 23', 'SES-10', 'NROL-76', 'Inmarsat-5 F4', 'SpaceX CRS-11', 'BulgariaSat-1', 'Iridium NEXT', 'Intelsat 35e', 'SpaceX CRS-12', 'Formosat-5', 'Boeing X-37B', 'Iridium NEXT', 'SES-11', 'Koreasat 5A', 'SpaceX CRS-13', 'Iridium NEXT', 'Zuma', 'GovSat-1', 'Paz', 'Hispasat 30W-6', 'Iridium NEXT', 'SpaceX CRS-14', 'Transiting Exoplanet Survey Satellite', 'Bangabandhu-1', 'Iridium NEXT', 'SES-12', 'SpaceX CRS-15', 'Telstar 19V', 'Iridium NEXT', 'Merah Putih', 'Telstar 18V', 'SAOCOM 1A', \"Es'hail 2\", 'SSO-A', 'SpaceX CRS-16', 'GPS III', 'Iridium NEXT', 'Nusantara Satu', 'Crew Dragon Demo-1', 'SpaceX CRS-17', 'Starlink', 'RADARSAT Constellation', 'SpaceX CRS-18', 'AMOS-17', 'Starlink', 'SpaceX CRS-19', 'JCSat-18', 'Starlink', 'Crew Dragon in-flight abort test', 'Starlink', 'Starlink', 'SpaceX CRS-20', 'Starlink', 'Starlink', 'Crew Dragon Demo-2', 'Starlink', 'Starlink', 'GPS III', 'ANASIS-II', 'Starlink', 'Starlink', 'SAOCOM 1B', 'Starlink', 'Starlink', 'Starlink', 'Starlink', 'GPS III', 'Crew-1', 'Sentinel-6 Michael Freilich (Jason-CS A)', 'Starlink', 'SpaceX CRS-21', 'SXM-7', 'NROL-108', 'Türksat 5A', 'Starlink', 'Transporter-1', 'Starlink', 'Starlink', 'Starlink', 'Starlink', 'Starlink', 'Starlink', 'Starlink', 'Crew-2', 'Starlink', 'Starlink', 'Starlink', 'Starlink', 'Starlink', 'SpaceX CRS-22', 'SXM-8'], 'Payload mass': ['', '', '525\\xa0kg', '4,700\\xa0kg', '4,877\\xa0kg', '500\\xa0kg', '3,170\\xa0kg', '3,325\\xa0kg', '2,296\\xa0kg', '1,316\\xa0kg', '4,535\\xa0kg', '4,428\\xa0kg', '2,216\\xa0kg', '2,395\\xa0kg', '570\\xa0kg', '4,159\\xa0kg', '1,898\\xa0kg', '4,707\\xa0kg', '1,952\\xa0kg', '2,034\\xa0kg', '553\\xa0kg', '5,271\\xa0kg', '3,136\\xa0kg', '4,696\\xa0kg', '3,100\\xa0kg', '3,600\\xa0kg', '2,257\\xa0kg', '4,600\\xa0kg', '9,600\\xa0kg', '2,490\\xa0kg', '5,600\\xa0kg', '5,300\\xa0kg', 'Classified', '6,070\\xa0kg', '2,708\\xa0kg', '3,669\\xa0kg', '9,600\\xa0kg', '6,761\\xa0kg', '3,310\\xa0kg', '475\\xa0kg', '4,990\\xa0kg', '9,600\\xa0kg', '5,200\\xa0kg', '3,500\\xa0kg', '2,205\\xa0kg', '9,600\\xa0kg', 'Classified', '4,230\\xa0kg', '2,150\\xa0kg', '6,092\\xa0kg', '9,600\\xa0kg', '2,647\\xa0kg', '362\\xa0kg', '3,600\\xa0kg', '6,460\\xa0kg', '5,384\\xa0kg', '2,697\\xa0kg', '7,075\\xa0kg', '9,600\\xa0kg', '5,800\\xa0kg', '7,060\\xa0kg', '3,000\\xa0kg', '5,300\\xa0kg', '~4,000\\xa0kg', '2,500\\xa0kg', '4,400\\xa0kg', '9,600\\xa0kg', '4,850\\xa0kg', '12,055\\xa0kg', '2,495\\xa0kg', '13,620\\xa0kg', '4,200\\xa0kg', '2,268\\xa0kg', '6,500\\xa0kg', '15,600\\xa0kg', '2,617\\xa0kg', '6,956\\xa0kg', '15,600\\xa0kg', '12,050\\xa0kg', '15,600\\xa0kg', '15,600\\xa0kg', '1,977\\xa0kg', '15,600\\xa0kg', '15,600\\xa0kg', '12,530\\xa0kg', '15,600\\xa0kg', '15,410\\xa0kg', '4,311\\xa0kg', '5,000–6,000\\xa0kg', '14,932\\xa0kg', '~15,440\\xa0kg', '3,130\\xa0kg', '15,600\\xa0kg', '15,600\\xa0kg', '15,600\\xa0kg', '15,600\\xa0kg', '4,311\\xa0kg', '~12,500\\xa0kg', '1,192\\xa0kg', '15,600\\xa0kg', '2,972\\xa0kg', '7,000\\xa0kg', 'Classified', '3,500\\xa0kg', '15,600\\xa0kg', '~5,000\\xa0kg', '15,600\\xa0kg', '15,600\\xa0kg', '15,600\\xa0kg', '15,600\\xa0kg', '15,600\\xa0kg', '15,600\\xa0kg', '15,600\\xa0kg', '~13,000\\xa0kg', '15,600\\xa0kg', '15,600\\xa0kg', '15,600\\xa0kg', '~14,000\\xa0kg', '15,600\\xa0kg', '3,328\\xa0kg', '7,000\\xa0kg'], 'Orbit': ['LEO', 'LEO', 'LEO', 'LEO', 'LEO', 'Polar orbit', 'GTO', 'GTO', 'LEO', 'LEO', 'GTO', 'GTO', 'LEO', 'LEO', 'HEO', 'GTO', 'LEO', 'GTO', 'LEO', 'LEO', 'LEO', 'GTO', 'LEO', 'GTO', 'GTO', 'GTO', 'LEO', 'GTO', 'Polar', 'LEO', 'GTO', 'GTO', 'LEO', 'GTO', 'LEO', 'GTO', 'LEO', 'GTO', 'LEO', 'SSO', 'LEO', 'Polar', 'GTO', 'GTO', 'LEO', 'Polar', 'LEO', 'GTO', 'SSO', 'GTO', 'Polar', 'LEO', 'HEO', 'GTO', 'Polar', 'GTO', 'LEO', 'GTO', 'Polar', 'GTO', 'GTO', 'SSO', 'GTO', 'SSO', 'LEO', 'MEO', 'Polar', 'GTO', 'LEO', 'LEO', 'LEO', 'SSO', 'LEO', 'GTO', 'LEO', 'LEO', 'GTO', 'LEO', 'Sub-orbital', 'LEO', 'LEO', 'LEO', 'LEO', 'LEO', 'LEO', 'LEO', 'LEO', 'MEO', 'GTO', 'LEO', 'LEO', 'SSO', 'LEO', 'LEO', 'LEO', 'LEO', 'MEO', 'LEO', 'LEO', 'LEO', 'LEO', 'GTO', 'LEO', 'GTO', 'LEO', 'SSO', 'LEO', 'LEO', 'LEO', 'LEO', 'LEO', 'LEO', 'LEO', 'LEO', 'LEO', 'LEO', 'LEO', 'LEO', 'LEO', 'LEO', 'GTO'], 'Customer': ['SpaceX', 'NASA', 'NASA', 'NASA', 'NASA', 'MDA', 'SES', 'Thaicom', 'NASA', 'Orbcomm', 'AsiaSat', 'AsiaSat', 'NASA', 'NASA', 'USAF', 'ABS', 'NASA', None, 'NASA', 'Orbcomm', 'NASA', 'SES', 'NASA', 'SKY Perfect JSAT Group', 'Thaicom', 'ABS', 'NASA', 'SKY Perfect JSAT Group', 'Iridium Communications', 'NASA', 'EchoStar', 'SES', 'NRO', 'Inmarsat', 'NASA', 'Bulsatcom', 'Iridium Communications', 'Intelsat', 'NASA', 'NSPO', 'USAF', 'Iridium Communications', 'SES S.A.', 'KT Corporation', 'NASA', 'Iridium Communications', 'Northrop Grumman', 'SES', 'Hisdesat', 'Hispasat', 'Iridium Communications', 'NASA', 'NASA', 'Thales-Alenia', 'Iridium Communications', 'SES', 'NASA', 'Telesat', 'Iridium Communications', 'Telkom Indonesia', 'Telesat', 'CONAE', \"Es'hailSat\", 'Spaceflight Industries', 'NASA', 'USAF', 'Iridium Communications', 'PSN', 'NASA', 'NASA', 'SpaceX', 'Canadian Space Agency', 'NASA', 'Spacecom', 'SpaceX', 'NASA', 'Sky Perfect JSAT', 'SpaceX', 'NASA', 'SpaceX', 'SpaceX', 'NASA', 'SpaceX', 'SpaceX', 'NASA', 'SpaceX', 'SpaceX', 'U.S. Space Force', 'Republic of Korea Army', 'SpaceX', 'SpaceX', 'CONAE', 'SpaceX', 'SpaceX', 'SpaceX', 'SpaceX', 'USSF', 'NASA', 'NASA', 'SpaceX', 'NASA', 'Sirius XM', 'NRO', 'Türksat', 'SpaceX', None, 'SpaceX', 'SpaceX', 'SpaceX', 'SpaceX', 'SpaceX', 'SpaceX', 'SpaceX', 'NASA', 'SpaceX', 'SpaceX', 'SpaceX', 'SpaceX', 'SpaceX', 'NASA', 'Sirius XM'], 'Launchoutcome': ['Success\\n', 'Success', 'Success', 'Success\\n', 'Success\\n', 'Success', 'Success', 'Success', 'Success\\n', 'Success', 'Success', 'Success', 'Success', 'Success', 'Success\\n', 'Success\\n', 'Success\\n', 'Success\\n', 'Failure', 'Success\\n', 'Success\\n', 'Success\\n', 'Success', 'Success\\n', 'Success\\n', 'Success\\n', 'Success\\n', 'Success\\n', 'Success\\n', 'Success\\n', 'Success\\n', 'Success', 'Success\\n', 'Success\\n', 'Success\\n', 'Success\\n', 'Success\\n', 'Success\\n', 'Success\\n', 'Success\\n', 'Success\\n', 'Success\\n', 'Success\\n', 'Success\\n', 'Success\\n', 'Success', 'Success', 'Success', 'Success', 'Success', 'Success', 'Success', 'Success', 'Success', 'Success', 'Success', 'Success', 'Success', 'Success', 'Success', 'Success', 'Success', 'Success', 'Success', 'Success\\n', 'Success', 'Success\\n', 'Success\\n', 'Success\\n', 'Success\\n', 'Success\\n', 'Success\\n', 'Success\\n', 'Success\\n', 'Success\\n', 'Success\\n', 'Success\\n', 'Success\\n', 'Success\\n', 'Success\\n', 'Success\\n', 'Success\\n', 'Success\\n', 'Success\\n', 'Success\\n', 'Success\\n', 'Success\\n', 'Success\\n', 'Success\\n', 'Success\\n', 'Success\\n', 'Success\\n', 'Success\\n', 'Success\\n', 'Success\\n', 'Success\\n', 'Success\\n', 'Success\\n', 'Success\\n', 'Success\\n', 'Success\\n', 'Success\\n', 'Success\\n', 'Success\\n', 'Success\\n', 'Success\\n', 'Success\\n', 'Success\\n', 'Success\\n', 'Success\\n', 'Success\\n', 'Success\\n', 'Success\\n', 'Success\\n', 'Success\\n', 'Success\\n', 'Success\\n', 'Success\\n', 'Success\\n', 'Success\\n', 'Success\\n'], 'Boosterlanding': ['Failure[9][10](parachute)', 'Failure[9][14](parachute)', 'No attempt', 'No attempt', 'No attempt', 'Uncontrolled(ocean)[d]', 'No attempt[38]', 'No attempt[43]', 'Controlled(ocean)[d][46]', 'Controlled(ocean)[d][46]', 'No attempt[57]', 'No attempt', 'Uncontrolled(ocean)[d][64]', 'Failure(drone ship)', 'Controlled(ocean)[d]', 'No attempt[77]', 'Failure[83](drone ship)', 'No attempt[89]', 'Precluded[94](drone ship)', 'Success[99](ground pad)', 'Failure(drone ship)', 'Failure(drone ship)', 'Success[118](drone ship)', 'Success(drone ship)', 'Success[133](drone ship)', 'Failure[64](drone ship)', 'Success(ground pad)', 'Success(drone ship)', 'Success[154](drone ship)', 'Success(ground pad)', 'No attempt[165]', 'Success(drone ship)', 'Success(ground pad)', 'No attempt[165]', 'Success(ground pad)', 'Success(drone ship)', 'Success(drone ship)', 'No attempt[165]', 'Success(ground pad)', 'Success(drone ship)', 'Success(ground pad)', 'Success(drone ship)', 'Success(drone ship)', 'Success(drone ship)', 'Success(ground pad)', 'Controlled(ocean)[d][230]', 'Success(ground pad)', 'Controlled(ocean)[d][248]', 'No attempt[271]', 'No attempt[281]', 'No attempt[287]', 'No attempt[294]', 'Success[306](drone ship)', 'Success[315](drone ship)', 'No attempt[165]', 'No attempt[165]', 'No attempt[165]', 'Success[344](drone ship)', 'Success[352](drone ship)', 'Success[358](drone ship)', 'Success[361](drone ship)', 'Success[363](ground pad)', 'Success[370](drone ship)', 'Success[373](drone ship)', 'Failure[383](ground pad)', 'No attempt[386]', 'Success(drone ship)', 'Success(drone ship)', 'Success(drone ship)', 'Success(drone ship)', 'Success(drone ship)', 'Success(ground pad)', 'Success(ground pad)', 'No attempt[474]', 'Success(drone ship)', 'Success(drone ship)', 'Success(drone ship)', 'Success(drone ship)', 'No attempt', 'Success(drone ship)', 'Failure(drone ship)', 'Success(ground pad)', 'Failure(drone ship)', 'Success(drone ship)', 'Success(drone ship)', 'Success(drone ship)', 'Success(drone ship)', 'Success(drone ship)', 'Success(drone ship)', 'Success(drone ship)', 'Success(drone ship)', 'Success(ground pad)', 'Success(drone ship)', 'Success(drone ship)', 'Success(drone ship)', 'Success(drone ship)', 'Success(drone ship)', 'Success(drone ship)', 'Success(ground pad)', 'Success(drone ship)', 'Success(drone ship)', 'Success(drone ship)', 'Success(ground pad)', 'Success(drone ship)', 'Success(drone ship)', 'Success(drone ship)', 'Success(drone ship)', 'Failure(drone ship)', 'Success(drone ship)', 'Success(drone ship)', 'Success(drone ship)', 'Success(drone ship)', 'Success(drone ship)', 'Success(drone ship)', 'Success(drone ship)', 'Success(drone ship)', 'Success(drone ship)', 'Success(drone ship)', 'Success(drone ship)', 'Success(drone ship)', 'Success(drone ship)'], 'Date': ['4', '4', '8', '22', '8', '1', '29', '3', '6', '18', '14', '5', '7', '21', '10', '11', '2', '14', '27', '28', '22', '17', '4', '8', '6', '27', '15', '18', '14', '14', '19', '16', '30', '1', '15', '3', '23', '25', '5', '14', '24', '7', '9', '11', '30', '15', '23', '8', '31', '22', '6', '30', '2', '18', '11', '22', '4', '29', '22', '25', '7', '10', '8', '15', '3', '5', '23', '11', '22', '2', '4', '24', '12', '25', '6', '11', '5', '17', '7', '19', '29', '17', '7', '18', '22', '30', '4', '13', '30', '20', '7', '18', '30', '3', '6', '18', '24', '5', '16', '21', '25', '6', '13', '19', '8', '20', '24', '4', '16', '4', '11', '14', '24', '7', '23', '29', '4', '9', '15', '26', '3', '6'], 'Time': ['June', 'June', 'December', 'May', 'October', 'March', 'September', 'December', 'January', 'April', 'July', 'August', 'September', 'September', 'January', 'February', 'March', 'April', 'April', 'June', 'December', 'January', 'March', 'April', 'May', 'May', 'June', 'July', 'August', 'January', 'February', 'March', 'March', 'May', 'May', 'June', 'June', 'June', 'July', 'August', 'August', 'September', 'October', 'October', 'October', 'December', 'December', 'January', 'January', 'February', 'March', 'March', 'April', 'April', 'May', 'May', 'June', 'June', 'July', 'July', 'August', 'September', 'October', 'November', 'December', 'December', 'December', 'January', 'February', 'March', 'May', 'May', 'June', 'July', 'August', 'November', 'December', 'December', 'January', 'January', 'January', 'February', 'March', 'March', 'April', 'May', 'June', 'June', 'June', 'July', 'August', 'August', 'August', 'September', 'October', 'October', 'October', 'November', 'November', 'November', 'November', 'December', 'December', 'December', 'January', 'January', 'January', 'February', 'February', 'March', 'March', 'March', 'March', 'April', 'April', 'April', 'May', 'May', 'May', 'May', 'June', 'June']}\n"
     ]
    }
   ],
   "source": [
    " extracted_row = 0\n",
    "        \n",
    "# Funciones auxiliares (debes definir estas funciones para tu caso)\n",
    "def date_time(cell):\n",
    "    return cell.get_text(strip=True).split(' ')\n",
    "\n",
    "def booster_version(cell):\n",
    "    return cell.get_text(strip=True)\n",
    "\n",
    "def get_mass(cell):\n",
    "    return cell.get_text(strip=True).split(' ')[0]\n",
    "\n",
    "def landing_status(cell):\n",
    "    return cell.get_text(strip=True)\n",
    "\n",
    "# Extraer cada fila de la tabla\n",
    "for table_number, table in enumerate(soup.find_all('table', \"wikitable plainrowheaders collapsible\")):\n",
    "    # Obtener las filas de la tabla\n",
    "    for rows in table.find_all(\"tr\"):\n",
    "        # Verificar si el primer encabezado de la fila es un número correspondiente a un lanzamiento\n",
    "        if rows.th:\n",
    "            if rows.th.string:\n",
    "                flight_number = rows.th.string.strip()\n",
    "                flag = flight_number.isdigit()\n",
    "            else:\n",
    "                flag = False\n",
    "        else:\n",
    "            flag = False\n",
    "        \n",
    "        # Obtener los elementos de la fila\n",
    "        row = rows.find_all('td')\n",
    "        \n",
    "        # Si es un número, guardar las celdas en un diccionario\n",
    "        if flag:\n",
    "            extracted_row += 1\n",
    "            # Número de vuelo\n",
    "            launch_dict['Flight No.'].append(flight_number)\n",
    "            \n",
    "            # Fecha y hora\n",
    "            datatimelist = date_time(row[0])\n",
    "            launch_dict['Date'].append(datatimelist[0].strip(','))\n",
    "            launch_dict['Time'].append(datatimelist[1])\n",
    "            \n",
    "            # Versión del booster\n",
    "            bv = booster_version(row[1])\n",
    "            if not bv:\n",
    "                bv = row[1].a.string if row[1].a else None\n",
    "            launch_dict['Version,Booster[b]'].append(bv)\n",
    "            \n",
    "            # Sitio de lanzamiento\n",
    "            launch_site = row[2].a.string if row[2].a else None\n",
    "            launch_dict['Launch site'].append(launch_site)\n",
    "            \n",
    "            # Payload\n",
    "            payload = row[3].a.string if row[3].a else None\n",
    "            launch_dict['Payload[c]'].append(payload)\n",
    "            \n",
    "            # Masa del payload\n",
    "            payload_mass = get_mass(row[4])\n",
    "            launch_dict['Payload mass'].append(payload_mass)\n",
    "            \n",
    "            # Órbita\n",
    "            orbit = row[5].a.string if row[5].a else None\n",
    "            launch_dict['Orbit'].append(orbit)\n",
    "            \n",
    "            # Cliente\n",
    "            customer = row[6].a.string if row[6].a else None\n",
    "            launch_dict['Customer'].append(customer)\n",
    "            \n",
    "            # Resultado del lanzamiento\n",
    "            launch_outcome = list(row[7].strings)[0] if row[7].strings else None\n",
    "            launch_dict['Launchoutcome'].append(launch_outcome)\n",
    "            \n",
    "            # Aterrizaje del booster\n",
    "            booster_landing = landing_status(row[8])\n",
    "            launch_dict['Boosterlanding'].append(booster_landing)\n",
    "\n",
    "# Imprimir el diccionario de lanzamiento\n",
    "print(launch_dict)"
   ]
  },
  {
   "cell_type": "code",
   "execution_count": 42,
   "id": "5ddb1648-2e09-4284-bd89-da798ca552a2",
   "metadata": {},
   "outputs": [],
   "source": [
    "df= pd.DataFrame({ key:pd.Series(value) for key, value in launch_dict.items() })"
   ]
  },
  {
   "cell_type": "code",
   "execution_count": 44,
   "id": "c52d3fae-3aa6-4a26-b0d9-837cadf8cb9c",
   "metadata": {},
   "outputs": [
    {
     "data": {
      "text/html": [
       "<div>\n",
       "<style scoped>\n",
       "    .dataframe tbody tr th:only-of-type {\n",
       "        vertical-align: middle;\n",
       "    }\n",
       "\n",
       "    .dataframe tbody tr th {\n",
       "        vertical-align: top;\n",
       "    }\n",
       "\n",
       "    .dataframe thead th {\n",
       "        text-align: right;\n",
       "    }\n",
       "</style>\n",
       "<table border=\"1\" class=\"dataframe\">\n",
       "  <thead>\n",
       "    <tr style=\"text-align: right;\">\n",
       "      <th></th>\n",
       "      <th>Flight No.</th>\n",
       "      <th>Version,Booster[b]</th>\n",
       "      <th>Launch site</th>\n",
       "      <th>Payload[c]</th>\n",
       "      <th>Payload mass</th>\n",
       "      <th>Orbit</th>\n",
       "      <th>Customer</th>\n",
       "      <th>Launchoutcome</th>\n",
       "      <th>Boosterlanding</th>\n",
       "      <th>Date</th>\n",
       "      <th>Time</th>\n",
       "    </tr>\n",
       "  </thead>\n",
       "  <tbody>\n",
       "    <tr>\n",
       "      <th>0</th>\n",
       "      <td>1</td>\n",
       "      <td>F9 v1.0[7]B0003.1[8]</td>\n",
       "      <td>CCAFS</td>\n",
       "      <td>Dragon Spacecraft Qualification Unit</td>\n",
       "      <td></td>\n",
       "      <td>LEO</td>\n",
       "      <td>SpaceX</td>\n",
       "      <td>Success\\n</td>\n",
       "      <td>Failure[9][10](parachute)</td>\n",
       "      <td>4</td>\n",
       "      <td>June</td>\n",
       "    </tr>\n",
       "    <tr>\n",
       "      <th>1</th>\n",
       "      <td>1</td>\n",
       "      <td>F9 v1.0[7]B0004.1[8]</td>\n",
       "      <td>CCAFS</td>\n",
       "      <td>Dragon</td>\n",
       "      <td></td>\n",
       "      <td>LEO</td>\n",
       "      <td>NASA</td>\n",
       "      <td>Success</td>\n",
       "      <td>Failure[9][14](parachute)</td>\n",
       "      <td>4</td>\n",
       "      <td>June</td>\n",
       "    </tr>\n",
       "    <tr>\n",
       "      <th>2</th>\n",
       "      <td>2</td>\n",
       "      <td>F9 v1.0[7]B0005.1[8]</td>\n",
       "      <td>CCAFS</td>\n",
       "      <td>Dragon</td>\n",
       "      <td>525 kg</td>\n",
       "      <td>LEO</td>\n",
       "      <td>NASA</td>\n",
       "      <td>Success</td>\n",
       "      <td>No attempt</td>\n",
       "      <td>8</td>\n",
       "      <td>December</td>\n",
       "    </tr>\n",
       "    <tr>\n",
       "      <th>3</th>\n",
       "      <td>3</td>\n",
       "      <td>F9 v1.0[7]B0006.1[8]</td>\n",
       "      <td>CCAFS</td>\n",
       "      <td>SpaceX CRS-1</td>\n",
       "      <td>4,700 kg</td>\n",
       "      <td>LEO</td>\n",
       "      <td>NASA</td>\n",
       "      <td>Success\\n</td>\n",
       "      <td>No attempt</td>\n",
       "      <td>22</td>\n",
       "      <td>May</td>\n",
       "    </tr>\n",
       "    <tr>\n",
       "      <th>4</th>\n",
       "      <td>4</td>\n",
       "      <td>F9 v1.0[7]B0007.1[8]</td>\n",
       "      <td>CCAFS</td>\n",
       "      <td>SpaceX CRS-2</td>\n",
       "      <td>4,877 kg</td>\n",
       "      <td>LEO</td>\n",
       "      <td>NASA</td>\n",
       "      <td>Success\\n</td>\n",
       "      <td>No attempt</td>\n",
       "      <td>8</td>\n",
       "      <td>October</td>\n",
       "    </tr>\n",
       "  </tbody>\n",
       "</table>\n",
       "</div>"
      ],
      "text/plain": [
       "  Flight No.    Version,Booster[b] Launch site  \\\n",
       "0          1  F9 v1.0[7]B0003.1[8]       CCAFS   \n",
       "1          1  F9 v1.0[7]B0004.1[8]       CCAFS   \n",
       "2          2  F9 v1.0[7]B0005.1[8]       CCAFS   \n",
       "3          3  F9 v1.0[7]B0006.1[8]       CCAFS   \n",
       "4          4  F9 v1.0[7]B0007.1[8]       CCAFS   \n",
       "\n",
       "                             Payload[c] Payload mass Orbit Customer  \\\n",
       "0  Dragon Spacecraft Qualification Unit                LEO   SpaceX   \n",
       "1                                Dragon                LEO     NASA   \n",
       "2                                Dragon       525 kg   LEO     NASA   \n",
       "3                          SpaceX CRS-1     4,700 kg   LEO     NASA   \n",
       "4                          SpaceX CRS-2     4,877 kg   LEO     NASA   \n",
       "\n",
       "  Launchoutcome             Boosterlanding Date      Time  \n",
       "0     Success\\n  Failure[9][10](parachute)    4      June  \n",
       "1       Success  Failure[9][14](parachute)    4      June  \n",
       "2       Success                 No attempt    8  December  \n",
       "3     Success\\n                 No attempt   22       May  \n",
       "4     Success\\n                 No attempt    8   October  "
      ]
     },
     "execution_count": 44,
     "metadata": {},
     "output_type": "execute_result"
    }
   ],
   "source": [
    "df.head()"
   ]
  },
  {
   "cell_type": "code",
   "execution_count": 43,
   "id": "ec3b3cbc-9a2c-4ea9-b8b3-77bc17bdcd2c",
   "metadata": {},
   "outputs": [],
   "source": [
    "df.to_csv('spacex_web_scraped.csv', index=False)"
   ]
  },
  {
   "cell_type": "code",
   "execution_count": null,
   "id": "d6237fc6-6a47-4cb1-a0af-70d5e72934e3",
   "metadata": {},
   "outputs": [],
   "source": []
  }
 ],
 "metadata": {
  "kernelspec": {
   "display_name": "Python 3 (ipykernel)",
   "language": "python",
   "name": "python3"
  },
  "language_info": {
   "codemirror_mode": {
    "name": "ipython",
    "version": 3
   },
   "file_extension": ".py",
   "mimetype": "text/x-python",
   "name": "python",
   "nbconvert_exporter": "python",
   "pygments_lexer": "ipython3",
   "version": "3.11.9"
  }
 },
 "nbformat": 4,
 "nbformat_minor": 5
}
